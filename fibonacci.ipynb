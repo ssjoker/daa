{
 "cells": [
  {
   "cell_type": "code",
   "execution_count": 2,
   "id": "1d10e3e9",
   "metadata": {},
   "outputs": [
    {
     "name": "stdout",
     "output_type": "stream",
     "text": [
      "Enter the no. of terms: 5\n",
      "Fibonacci Sequence upto  5 :\n",
      "0\n",
      "1\n",
      "1\n",
      "2\n",
      "3\n",
      "Time taken for execution is : 0.0009911060333251953  seconds\n"
     ]
    }
   ],
   "source": [
    "# Non-Recurrsive\n",
    "import time\n",
    "\n",
    "n_terms = int(input(\"Enter the no. of terms: \"))\n",
    "n1,n2 = 0,1\n",
    "count = 0\n",
    "\n",
    "t1 = time.time()\n",
    "\n",
    "if n_terms <=0:\n",
    "    print(\"Please enter a positive integer :\")\n",
    "    print(\"\\n\")\n",
    "    \n",
    "elif n_terms == 1:\n",
    "    print(\"Fibonacci Sequence upto \",n_terms, \":\")\n",
    "    print(n1)\n",
    "    print(\"\\n\")\n",
    "    \n",
    "else:\n",
    "    print(\"Fibonacci Sequence upto \",n_terms, \":\")\n",
    "    while count<n_terms:\n",
    "        print(n1)\n",
    "        n3 = n1+n2\n",
    "        n1,n2=n2,n3\n",
    "        count +=1\n",
    "        \n",
    "t2 = time.time()\n",
    "\n",
    "delta = t2-t1\n",
    "print(\"Time taken for execution is :\",delta,\" seconds\" )"
   ]
  },
  {
   "cell_type": "code",
   "execution_count": 3,
   "id": "ed02dd8e",
   "metadata": {},
   "outputs": [
    {
     "name": "stdout",
     "output_type": "stream",
     "text": [
      "Enter the no. of terms: 5\n",
      "Fibonacci Sequence :\n",
      "0\n",
      "1\n",
      "1\n",
      "2\n",
      "3\n",
      "Time taken for execution is : 0.0009918212890625  seconds\n"
     ]
    }
   ],
   "source": [
    "import time\n",
    "\n",
    "def fib(n):\n",
    "    if n<=1:\n",
    "        return n\n",
    "    else:\n",
    "        return fib(n-1) + fib(n-2)\n",
    "\n",
    "n_terms = int(input(\"Enter the no. of terms: \"))\n",
    "\n",
    "t1 = time.time()\n",
    "\n",
    "if n_terms <=0:\n",
    "    print(\"Please enter a positive integer :\")\n",
    "    print(\"\\n\")\n",
    "else:\n",
    "    print(\"Fibonacci Sequence :\")\n",
    "    for i in range (n_terms):\n",
    "        print(fib(i))\n",
    "        \n",
    "t2 = time.time()\n",
    "delta = t2 - t1 \n",
    "print(\"Time taken for execution is :\",delta,\" seconds\") \n"
   ]
  },
  {
   "cell_type": "code",
   "execution_count": null,
   "id": "f01043c7",
   "metadata": {},
   "outputs": [],
   "source": []
  }
 ],
 "metadata": {
  "kernelspec": {
   "display_name": "Python 3 (ipykernel)",
   "language": "python",
   "name": "python3"
  },
  "language_info": {
   "codemirror_mode": {
    "name": "ipython",
    "version": 3
   },
   "file_extension": ".py",
   "mimetype": "text/x-python",
   "name": "python",
   "nbconvert_exporter": "python",
   "pygments_lexer": "ipython3",
   "version": "3.8.4"
  }
 },
 "nbformat": 4,
 "nbformat_minor": 5
}
