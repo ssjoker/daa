{
 "cells": [
  {
   "cell_type": "code",
   "execution_count": 15,
   "id": "f877198d",
   "metadata": {},
   "outputs": [
    {
     "name": "stdout",
     "output_type": "stream",
     "text": [
      "0 0 1 0 \n",
      "1 0 0 0 \n",
      "0 0 0 1 \n",
      "0 1 0 0 \n"
     ]
    },
    {
     "data": {
      "text/plain": [
       "True"
      ]
     },
     "execution_count": 15,
     "metadata": {},
     "output_type": "execute_result"
    }
   ],
   "source": [
    "# global N\n",
    "N = 4\n",
    "\n",
    "def printSolution(board):\n",
    "\tfor i in range(N):\n",
    "\t\tfor j in range(N):\n",
    "\t\t\tprint (board[i][j],end=' ')\n",
    "\t\tprint()\n",
    "\n",
    "def isSafe(board, row, col):\n",
    "\n",
    "\tfor i in range(col):\n",
    "\t\tif board[row][i] == 1:\n",
    "\t\t\treturn False\n",
    "\n",
    "\tfor i, j in zip(range(row, -1, -1), range(col, -1, -1)):\n",
    "\t\tif board[i][j] == 1:\n",
    "\t\t\treturn False\n",
    "\n",
    "\tfor i, j in zip(range(row, N, 1), range(col, -1, -1)):\n",
    "\t\tif board[i][j] == 1:\n",
    "\t\t\treturn False\n",
    "\n",
    "\treturn True\n",
    "\n",
    "def solveNQUtil(board, col):\n",
    "\tif col >= N:\n",
    "\t\treturn True\n",
    "\n",
    "\tfor i in range(N):\n",
    "\n",
    "\t\tif isSafe(board, i, col):\n",
    "\t\t\tboard[i][col] = 1\n",
    "\n",
    "\t\t\tif solveNQUtil(board, col + 1) == True:\n",
    "\t\t\t\treturn True\n",
    "\n",
    "\t\t\tboard[i][col] = 0\n",
    "\n",
    "\treturn False\n",
    "\n",
    "def solveNQ():\n",
    "\tboard = [ [0, 0, 0, 0],\n",
    "\t\t\t[0, 0, 0, 0],\n",
    "\t\t\t[0, 0, 0, 0],\n",
    "\t\t\t[0, 0, 0, 0]\n",
    "\t\t\t]\n",
    "\n",
    "\tif solveNQUtil(board, 0) == False:\n",
    "\t\tprint (\"Solution does not exist\")\n",
    "\t\treturn False\n",
    "\n",
    "\tprintSolution(board)\n",
    "\treturn True\n",
    "\n",
    "solveNQ()\n"
   ]
  }
 ],
 "metadata": {
  "kernelspec": {
   "display_name": "Python 3 (ipykernel)",
   "language": "python",
   "name": "python3"
  },
  "language_info": {
   "codemirror_mode": {
    "name": "ipython",
    "version": 3
   },
   "file_extension": ".py",
   "mimetype": "text/x-python",
   "name": "python",
   "nbconvert_exporter": "python",
   "pygments_lexer": "ipython3",
   "version": "3.8.4"
  }
 },
 "nbformat": 4,
 "nbformat_minor": 5
}
