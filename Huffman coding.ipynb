{
 "cells": [
  {
   "cell_type": "code",
   "execution_count": 4,
   "id": "274d41da",
   "metadata": {},
   "outputs": [
    {
     "name": "stdout",
     "output_type": "stream",
     "text": [
      "f->0\n",
      "c->100\n",
      "d->101\n",
      "a->1100\n",
      "b->1101\n",
      "e->111\n"
     ]
    }
   ],
   "source": [
    "import heapq\n",
    "\n",
    "class node:\n",
    "    def __init__(self, freq, symbol, left=None, right=None):\n",
    "        \n",
    "        self.freq = freq\n",
    "        self.symbol = symbol\n",
    "        self.left = left\n",
    "        self.right = right\n",
    "        self.huff = ''\n",
    "        \n",
    "    def __lt__(self, nxt):\n",
    "        return (self.freq < nxt.freq)   \n",
    "    \n",
    "def printNodes(node, val=''):\n",
    "    \n",
    "    newVal = val + str(node.huff)\n",
    "    \n",
    "    if(node.left):\n",
    "        printNodes(node.left, newVal)\n",
    "\n",
    "    if(node.right):\n",
    "        printNodes(node.right, newVal)\n",
    "        \n",
    "    \n",
    "    if(not node.left and not node.right):\n",
    "        \n",
    "        print(node.symbol + \"->\" + newVal)\n",
    "        \n",
    "        \n",
    "chars = ['a','b','c','d','e','f']\n",
    "freq = [ 5, 9, 12, 13, 16, 45]\n",
    "nodes = []\n",
    "    \n",
    "for x in range(len(chars)):\n",
    "    heapq.heappush(nodes, node(freq[x], chars[x]))\n",
    "    \n",
    "while len(nodes) > 1:\n",
    "    \n",
    "    left = heapq.heappop(nodes)\n",
    "    right = heapq.heappop(nodes)\n",
    "    \n",
    "    left.huff = 0\n",
    "    right.huff = 1\n",
    "    \n",
    "    newNode = node(left.freq+right.freq, left.symbol+right.symbol,left,right)\n",
    "    heapq.heappush(nodes,newNode)\n",
    "    \n",
    "    \n",
    "printNodes(nodes[0])"
   ]
  },
  {
   "cell_type": "code",
   "execution_count": null,
   "id": "8836b618",
   "metadata": {},
   "outputs": [],
   "source": []
  },
  {
   "cell_type": "code",
   "execution_count": null,
   "id": "228f5ee1",
   "metadata": {},
   "outputs": [],
   "source": []
  }
 ],
 "metadata": {
  "kernelspec": {
   "display_name": "Python 3 (ipykernel)",
   "language": "python",
   "name": "python3"
  },
  "language_info": {
   "codemirror_mode": {
    "name": "ipython",
    "version": 3
   },
   "file_extension": ".py",
   "mimetype": "text/x-python",
   "name": "python",
   "nbconvert_exporter": "python",
   "pygments_lexer": "ipython3",
   "version": "3.8.4"
  }
 },
 "nbformat": 4,
 "nbformat_minor": 5
}
