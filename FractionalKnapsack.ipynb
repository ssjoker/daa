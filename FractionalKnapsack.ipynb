{
 "cells": [
  {
   "cell_type": "code",
   "execution_count": 1,
   "id": "0d001f1e",
   "metadata": {},
   "outputs": [
    {
     "name": "stdout",
     "output_type": "stream",
     "text": [
      "Maximum value we can obtain = 60.0\n"
     ]
    }
   ],
   "source": [
    "class Item:\n",
    "    def __init__(self, value, weight):\n",
    "        self.value = value\n",
    "        self.weight = weight\n",
    "\n",
    "def fractionalKnapsack(W, arr):\n",
    "    arr.sort(key=lambda x: (x.value/x.weight), reverse=True)\n",
    "    finalvalue =0.0\n",
    "    \n",
    "    for item in arr:\n",
    "        if item.weight <= W:\n",
    "            W -= item.weight\n",
    "            finalvalue += item.value\n",
    "\n",
    "        else:\n",
    "            finalvalue += item.value * W / item.weight\n",
    "            break\n",
    "            \n",
    "        return finalvalue\n",
    "\n",
    "if __name__ == \"__main__\":\n",
    "    W = 50\n",
    "    arr = [Item(60, 10), Item(100, 20), Item(120, 30)]\n",
    "    max_val = fractionalKnapsack(W, arr)\n",
    "    print ('Maximum value we can obtain = {}'.format(max_val))\n"
   ]
  },
  {
   "cell_type": "code",
   "execution_count": null,
   "id": "063afee7",
   "metadata": {},
   "outputs": [],
   "source": []
  }
 ],
 "metadata": {
  "kernelspec": {
   "display_name": "Python 3 (ipykernel)",
   "language": "python",
   "name": "python3"
  },
  "language_info": {
   "codemirror_mode": {
    "name": "ipython",
    "version": 3
   },
   "file_extension": ".py",
   "mimetype": "text/x-python",
   "name": "python",
   "nbconvert_exporter": "python",
   "pygments_lexer": "ipython3",
   "version": "3.8.4"
  }
 },
 "nbformat": 4,
 "nbformat_minor": 5
}
