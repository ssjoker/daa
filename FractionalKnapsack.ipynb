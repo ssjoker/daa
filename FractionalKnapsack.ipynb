{
 "cells": [
  {
   "cell_type": "code",
   "execution_count": 2,
   "id": "0d001f1e",
   "metadata": {},
   "outputs": [
    {
     "name": "stdout",
     "output_type": "stream",
     "text": [
      "[[500, 30], [100, 20], [200, 40]]\n",
      "650.0\n"
     ]
    }
   ],
   "source": [
    "arr = [[100,20],[500,30],[200,40]]\n",
    "w = 60\n",
    "price = 0\n",
    "\n",
    "arr = sorted(arr, key = lambda x : x[0] / x[1], reverse = True)\n",
    "print(arr)\n",
    "\n",
    "for i in range(len(arr)):\n",
    "    if(arr[i][1] > w):\n",
    "        price += (arr[i][1] -(arr[i][1]-w))*(arr[i][0] / arr[i][1])\n",
    "    else:\n",
    "        price += arr[i][0]\n",
    "        w -= arr[i][1]\n",
    "\n",
    "print(price)"
   ]
  },
  {
   "cell_type": "code",
   "execution_count": null,
   "id": "063afee7",
   "metadata": {},
   "outputs": [],
   "source": []
  }
 ],
 "metadata": {
  "kernelspec": {
   "display_name": "Python 3 (ipykernel)",
   "language": "python",
   "name": "python3"
  },
  "language_info": {
   "codemirror_mode": {
    "name": "ipython",
    "version": 3
   },
   "file_extension": ".py",
   "mimetype": "text/x-python",
   "name": "python",
   "nbconvert_exporter": "python",
   "pygments_lexer": "ipython3",
   "version": "3.8.4"
  }
 },
 "nbformat": 4,
 "nbformat_minor": 5
}
